{
  "cells": [
    {
      "cell_type": "markdown",
      "id": "764aaf3b",
      "metadata": {
        "id": "764aaf3b"
      },
      "source": [
        "# FitFusion Studio - AI Business Assistant\n",
        "\n",
        "## Complete Implementation using Google Gemini API + Gradio\n",
        "\n",
        "This notebook implements an AI-powered chatbot for FitFusion Studio with 4 tools:\n",
        "1. **record_customer_interest** - Capture leads\n",
        "2. **record_feedback** - Log customer feedback\n",
        "3. **book_trial_session** - Book free trials\n",
        "4. **check_class_availability** - Check class schedules\n",
        "\n",
        "**Author**: [Your Name]  \n",
        "**Date**: October 2025"
      ]
    },
    {
      "cell_type": "markdown",
      "id": "-RrADlekpSQA",
      "metadata": {
        "id": "-RrADlekpSQA"
      },
      "source": []
    },
    {
      "cell_type": "markdown",
      "id": "9703ecb2",
      "metadata": {
        "id": "9703ecb2"
      },
      "source": [
        "## Step 1: Clone repo and Install Dependencies\n",
        "\n",
        "First, install all required packages."
      ]
    },
    {
      "cell_type": "code",
      "execution_count": null,
      "id": "e6394ae8",
      "metadata": {
        "id": "e6394ae8"
      },
      "outputs": [],
      "source": [
        "!git clone https://github.com/alialakbar47/fitness_agent.git\n",
        "import os\n",
        "os.chdir(\"/content/fitness_agent\")\n",
        "!pip install -q -r requirements.txt"
      ]
    },
    {
      "cell_type": "markdown",
      "id": "7d33227a",
      "metadata": {
        "id": "7d33227a"
      },
      "source": [
        "## Step 2: Import Libraries and Configure API"
      ]
    },
    {
      "cell_type": "markdown",
      "id": "PbZT-9fGMwb5",
      "metadata": {
        "id": "PbZT-9fGMwb5"
      },
      "source": [
        "load the google api key defined in your colab secrets"
      ]
    },
    {
      "cell_type": "code",
      "execution_count": 55,
      "id": "0b5fe749",
      "metadata": {
        "colab": {
          "base_uri": "https://localhost:8080/"
        },
        "id": "0b5fe749",
        "outputId": "81072201-ccb9-42b2-b10e-e2116c4382f3"
      },
      "outputs": [
        {
          "name": "stdout",
          "output_type": "stream",
          "text": [
            "✅ API configured successfully\n"
          ]
        }
      ],
      "source": [
        "import google.generativeai as genai\n",
        "import os\n",
        "from dotenv import load_dotenv\n",
        "from datetime import datetime\n",
        "import json\n",
        "from typing import Dict, List, Any\n",
        "import gradio as gr\n",
        "from google.colab import userdata\n",
        "import google.generativeai as genai\n",
        "\n",
        "# Fetch key from Colab secrets\n",
        "GOOGLE_API_KEY = userdata.get('GOOGLE_API_KEY')\n",
        "\n",
        "if not GOOGLE_API_KEY:\n",
        "    raise ValueError(\"⚠️ GOOGLE_API_KEY not found in Colab secrets!\")\n",
        "\n",
        "# Configure the Gemini API\n",
        "genai.configure(api_key=GOOGLE_API_KEY)\n",
        "print(\"✅ API configured successfully\")"
      ]
    },
    {
      "cell_type": "markdown",
      "id": "64586c8d",
      "metadata": {
        "id": "64586c8d"
      },
      "source": [
        "## Step 3: Load Business Information"
      ]
    },
    {
      "cell_type": "code",
      "execution_count": 56,
      "id": "44a252fc",
      "metadata": {
        "colab": {
          "base_uri": "https://localhost:8080/"
        },
        "id": "44a252fc",
        "outputId": "776052f6-8ae5-42f6-b545-1109438bf3a1"
      },
      "outputs": [
        {
          "name": "stdout",
          "output_type": "stream",
          "text": [
            "✅ Business information loaded\n",
            "Preview (first 200 chars): # FitFusion Studio - Your AI-Powered Fitness Journey\n",
            "\n",
            "## About Us\n",
            "FitFusion Studio is a revolutionary fitness and wellness center that combines cutting-edge AI technology with expert human coaching to...\n"
          ]
        }
      ],
      "source": [
        "def load_business_info():\n",
        "    \"\"\"Load business summary from file\"\"\"\n",
        "    try:\n",
        "        with open('me/business_summary.txt', 'r', encoding='utf-8') as f:\n",
        "            return f.read()\n",
        "    except FileNotFoundError:\n",
        "        print(\"⚠️  business_summary.txt not found. Using minimal info.\")\n",
        "        return \"\"\"FitFusion Studio is an AI-powered fitness and wellness center offering\n",
        "        personal training, group classes, nutrition coaching, and wellness programs.\"\"\"\n",
        "\n",
        "BUSINESS_INFO = load_business_info()\n",
        "print(\"✅ Business information loaded\")\n",
        "print(f\"Preview (first 200 chars): {BUSINESS_INFO[:200]}...\")"
      ]
    },
    {
      "cell_type": "markdown",
      "id": "23184528",
      "metadata": {
        "id": "23184528"
      },
      "source": [
        "## Step 4: Define Tool Functions\n",
        "\n",
        "We'll implement 4 tools:\n",
        "1. **record_customer_interest** - Capture lead information\n",
        "2. **record_feedback** - Log customer feedback with severity\n",
        "3. **book_trial_session** - Book free trial sessions\n",
        "4. **check_class_availability** - Check class schedules"
      ]
    },
    {
      "cell_type": "code",
      "execution_count": 57,
      "id": "2a0c561f",
      "metadata": {
        "colab": {
          "base_uri": "https://localhost:8080/"
        },
        "id": "2a0c561f",
        "outputId": "48f5acd4-41b0-40ef-d327-a86886a923e8"
      },
      "outputs": [
        {
          "name": "stdout",
          "output_type": "stream",
          "text": [
            "✅ Tool Functions Defined\n"
          ]
        }
      ],
      "source": [
        "def record_customer_interest(name: str, email: str, interest: str, phone: str = \"\") -> str:\n",
        "    \"\"\"\n",
        "    TOOL 1: Record customer lead information\n",
        "\n",
        "    Args:\n",
        "        name: Customer's full name\n",
        "        email: Customer's email address\n",
        "        interest: What the customer is interested in\n",
        "        phone: Optional phone number\n",
        "\n",
        "    Returns:\n",
        "        Confirmation message\n",
        "    \"\"\"\n",
        "    timestamp = datetime.now().strftime(\"%Y-%m-%d %H:%M:%S\")\n",
        "\n",
        "    lead_entry = f\"\"\"\n",
        "{'='*60}\n",
        "LEAD CAPTURED: {timestamp}\n",
        "Name: {name}\n",
        "Email: {email}\n",
        "Phone: {phone if phone else 'Not provided'}\n",
        "Interest: {interest}\n",
        "{'='*60}\n",
        "\"\"\"\n",
        "\n",
        "    # Append to leads file\n",
        "    with open('data/leads/leads.txt', 'a', encoding='utf-8') as f:\n",
        "        f.write(lead_entry + '\\n')\n",
        "\n",
        "    return f\"✅ Thank you {name}! Your information has been recorded. Our team will contact you at {email} within 24 hours to discuss {interest}.\"\n",
        "\n",
        "\n",
        "def record_feedback(feedback: str, customer_name: str = \"Anonymous\", severity: str = \"medium\") -> str:\n",
        "    \"\"\"\n",
        "    TOOL 2: Record customer feedback or complaints\n",
        "\n",
        "    Args:\n",
        "        feedback: The feedback or complaint text\n",
        "        customer_name: Name of customer providing feedback (optional)\n",
        "        severity: Priority level - low, medium, or high\n",
        "\n",
        "    Returns:\n",
        "        Confirmation with ticket number\n",
        "    \"\"\"\n",
        "    timestamp = datetime.now().strftime(\"%Y-%m-%d %H:%M:%S\")\n",
        "    ticket_number = f\"FB-{datetime.now().strftime('%Y%m%d%H%M%S')}\"\n",
        "\n",
        "    feedback_entry = f\"\"\"\n",
        "{'='*60}\n",
        "FEEDBACK RECEIVED: {timestamp}\n",
        "Ticket #: {ticket_number}\n",
        "From: {customer_name}\n",
        "Severity: {severity.upper()}\n",
        "Feedback: {feedback}\n",
        "{'='*60}\n",
        "\"\"\"\n",
        "\n",
        "    # Append to feedback file\n",
        "    with open('data/feedback/feedback.txt', 'a', encoding='utf-8') as f:\n",
        "        f.write(feedback_entry + '\\n')\n",
        "\n",
        "    return f\"✅ Thank you for your feedback! Ticket #{ticket_number} has been created. Our team will review this {severity} priority item and respond accordingly.\"\n",
        "\n",
        "\n",
        "def book_trial_session(name: str, email: str, preferred_date: str, session_type: str) -> str:\n",
        "    \"\"\"\n",
        "    TOOL 3: Book a free trial session\n",
        "\n",
        "    Args:\n",
        "        name: Customer's full name\n",
        "        email: Customer's email\n",
        "        preferred_date: Preferred date for trial (e.g., \"2025-10-20\" or \"next Monday\")\n",
        "        session_type: Type of session - personal_training, group_class, or nutrition\n",
        "\n",
        "    Returns:\n",
        "        Booking confirmation\n",
        "    \"\"\"\n",
        "    timestamp = datetime.now().strftime(\"%Y-%m-%d %H:%M:%S\")\n",
        "    booking_id = f\"TRIAL-{datetime.now().strftime('%Y%m%d%H%M%S')}\"\n",
        "\n",
        "    # Map session types to friendly names\n",
        "    session_map = {\n",
        "        'personal_training': 'Personal Training Session',\n",
        "        'group_class': 'Group Fitness Class',\n",
        "        'nutrition': 'Nutrition Consultation'\n",
        "    }\n",
        "    session_name = session_map.get(session_type, session_type)\n",
        "\n",
        "    booking_entry = f\"\"\"\n",
        "{'='*60}\n",
        "TRIAL SESSION BOOKED: {timestamp}\n",
        "Booking ID: {booking_id}\n",
        "Name: {name}\n",
        "Email: {email}\n",
        "Session Type: {session_name}\n",
        "Preferred Date: {preferred_date}\n",
        "Status: PENDING CONFIRMATION\n",
        "{'='*60}\n",
        "\"\"\"\n",
        "\n",
        "    # Append to bookings file\n",
        "    with open('data/bookings/bookings.txt', 'a', encoding='utf-8') as f:\n",
        "        f.write(booking_entry + '\\n')\n",
        "\n",
        "    return f\"\"\"✅ Excellent! Your trial {session_name} has been requested.\n",
        "\n",
        "Booking ID: {booking_id}\n",
        "Preferred Date: {preferred_date}\n",
        "\n",
        "We'll send a confirmation email to {email} within 2 hours with available time slots.\n",
        "Please bring comfortable workout clothes and arrive 10 minutes early. We're excited to meet you!\"\"\"\n",
        "\n",
        "\n",
        "def check_class_availability(class_type: str, preferred_day: str) -> str:\n",
        "    \"\"\"\n",
        "    TOOL 4: Check available class times for specific class types\n",
        "\n",
        "    Args:\n",
        "        class_type: Type of class (yoga, hiit, spin, strength, pilates, dance)\n",
        "        preferred_day: Day of week (monday, tuesday, etc. or \"today\", \"tomorrow\")\n",
        "\n",
        "    Returns:\n",
        "        List of available time slots\n",
        "    \"\"\"\n",
        "    # Mock schedule data - in real app would query database\n",
        "    schedule = {\n",
        "        'yoga': {\n",
        "            'monday': ['6:00 AM', '12:00 PM', '6:30 PM'],\n",
        "            'tuesday': ['6:30 AM', '5:30 PM', '7:00 PM'],\n",
        "            'wednesday': ['6:00 AM', '12:00 PM', '6:30 PM'],\n",
        "            'thursday': ['6:30 AM', '5:30 PM'],\n",
        "            'friday': ['6:00 AM', '12:00 PM', '5:30 PM'],\n",
        "            'saturday': ['8:00 AM', '10:00 AM'],\n",
        "            'sunday': ['9:00 AM', '11:00 AM']\n",
        "        },\n",
        "        'hiit': {\n",
        "            'monday': ['6:30 AM', '5:30 PM', '7:00 PM'],\n",
        "            'tuesday': ['6:00 AM', '12:00 PM', '6:00 PM'],\n",
        "            'wednesday': ['6:30 AM', '5:30 PM', '7:00 PM'],\n",
        "            'thursday': ['6:00 AM', '6:00 PM'],\n",
        "            'friday': ['6:30 AM', '5:00 PM'],\n",
        "            'saturday': ['9:00 AM'],\n",
        "            'sunday': ['10:00 AM']\n",
        "        },\n",
        "        'spin': {\n",
        "            'monday': ['6:00 AM', '5:00 PM'],\n",
        "            'tuesday': ['6:30 AM', '6:30 PM'],\n",
        "            'wednesday': ['6:00 AM', '5:00 PM'],\n",
        "            'thursday': ['6:30 AM', '6:30 PM'],\n",
        "            'friday': ['6:00 AM', '5:00 PM'],\n",
        "            'saturday': ['8:30 AM', '10:30 AM'],\n",
        "            'sunday': ['9:30 AM']\n",
        "        },\n",
        "        'strength': {\n",
        "            'monday': ['6:30 AM', '12:00 PM', '6:00 PM'],\n",
        "            'tuesday': ['6:00 AM', '5:30 PM'],\n",
        "            'wednesday': ['6:30 AM', '12:00 PM', '6:00 PM'],\n",
        "            'thursday': ['6:00 AM', '5:30 PM'],\n",
        "            'friday': ['6:30 AM', '12:00 PM'],\n",
        "            'saturday': ['9:00 AM'],\n",
        "            'sunday': ['10:00 AM']\n",
        "        },\n",
        "        'pilates': {\n",
        "            'monday': ['7:00 AM', '12:30 PM', '5:30 PM'],\n",
        "            'tuesday': ['7:00 AM', '6:00 PM'],\n",
        "            'wednesday': ['7:00 AM', '12:30 PM', '5:30 PM'],\n",
        "            'thursday': ['7:00 AM', '6:00 PM'],\n",
        "            'friday': ['7:00 AM', '12:30 PM'],\n",
        "            'saturday': ['10:00 AM'],\n",
        "            'sunday': ['11:00 AM']\n",
        "        },\n",
        "        'dance': {\n",
        "            'tuesday': ['7:00 PM'],\n",
        "            'thursday': ['7:00 PM'],\n",
        "            'saturday': ['11:00 AM'],\n",
        "            'sunday': ['2:00 PM']\n",
        "        }\n",
        "    }\n",
        "\n",
        "    # Normalize inputs\n",
        "    class_type = class_type.lower().strip()\n",
        "    preferred_day = preferred_day.lower().strip()\n",
        "\n",
        "    # Handle \"today\" and \"tomorrow\"\n",
        "    if preferred_day in ['today', 'tomorrow']:\n",
        "        days = ['monday', 'tuesday', 'wednesday', 'thursday', 'friday', 'saturday', 'sunday']\n",
        "        current_day = datetime.now().weekday()  # 0=Monday\n",
        "        if preferred_day == 'tomorrow':\n",
        "            current_day = (current_day + 1) % 7\n",
        "        preferred_day = days[current_day]\n",
        "\n",
        "    # Check if class type exists\n",
        "    if class_type not in schedule:\n",
        "        available_classes = ', '.join(schedule.keys())\n",
        "        return f\"⚠️  Class type '{class_type}' not found. Available classes: {available_classes}\"\n",
        "\n",
        "    # Check if day has classes\n",
        "    if preferred_day not in schedule[class_type]:\n",
        "        return f\"⚠️  No {class_type} classes scheduled for {preferred_day.capitalize()}. Try another day!\"\n",
        "\n",
        "    # Get available times\n",
        "    times = schedule[class_type][preferred_day]\n",
        "    times_str = '\\n'.join([f\"  • {time}\" for time in times])\n",
        "\n",
        "    return f\"\"\"✅ {class_type.capitalize()} classes available on {preferred_day.capitalize()}:\n",
        "\n",
        "{times_str}\n",
        "\n",
        "Each class is 60 minutes. Book your spot by telling me your name, email, and preferred time!\"\"\"\n",
        "\n",
        "\n",
        "\n",
        "print(\"✅ Tool Functions Defined\")\n"
      ]
    },
    {
      "cell_type": "markdown",
      "id": "9bdeefb0",
      "metadata": {
        "id": "9bdeefb0"
      },
      "source": [
        "## Step 5: Test Tool Functions\n",
        "Test each tool individually to verify they work correctly."
      ]
    },
    {
      "cell_type": "code",
      "execution_count": 58,
      "id": "86d2277b",
      "metadata": {
        "colab": {
          "base_uri": "https://localhost:8080/"
        },
        "id": "86d2277b",
        "outputId": "eda7ca47-d814-4778-f1ef-3bf9ccb160b0"
      },
      "outputs": [
        {
          "name": "stdout",
          "output_type": "stream",
          "text": [
            "\n",
            "============================================================\n",
            "TESTING TOOL FUNCTIONS\n",
            "============================================================\n",
            "🧪 Testing Tool 1: record_customer_interest\n",
            "✅ Thank you Test User! Your information has been recorded. Our team will contact you at test@example.com within 24 hours to discuss Weight loss program.\n",
            "\n",
            "🧪 Testing Tool 2: record_feedback\n",
            "✅ Thank you for your feedback! Ticket #FB-20251017124438 has been created. Our team will review this low priority item and respond accordingly.\n",
            "\n",
            "🧪 Testing Tool 3: book_trial_session\n",
            "✅ Excellent! Your trial Personal Training Session has been requested.\n",
            "\n",
            "Booking ID: TRIAL-20251017124438\n",
            "Preferred Date: 2025-10-25\n",
            "\n",
            "We'll send a confirmation email to jane@example.com within 2 hours with available time slots.\n",
            "Please bring comfortable workout clothes and arrive 10 minutes early. We're excited to meet you!\n",
            "\n",
            "🧪 Testing Tool 4: check_class_availability\n",
            "✅ Yoga classes available on Monday:\n",
            "\n",
            "  • 6:00 AM\n",
            "  • 12:00 PM\n",
            "  • 6:30 PM\n",
            "\n",
            "Each class is 60 minutes. Book your spot by telling me your name, email, and preferred time!\n",
            "\n",
            "✅ All tool functions working correctly!\n",
            "📁 Check leads.txt, feedback.txt, and bookings.txt files\n"
          ]
        }
      ],
      "source": [
        "# Test all tools individually\n",
        "print(\"\\n\" + \"=\"*60)\n",
        "print(\"TESTING TOOL FUNCTIONS\")\n",
        "print(\"=\"*60)\n",
        "print(\"🧪 Testing Tool 1: record_customer_interest\")\n",
        "result1 = record_customer_interest(\"Test User\", \"test@example.com\", \"Weight loss program\", \"555-0100\")\n",
        "print(result1)\n",
        "print()\n",
        "\n",
        "print(\"🧪 Testing Tool 2: record_feedback\")\n",
        "result2 = record_feedback(\"Great experience at the gym today!\", \"Happy Member\", \"low\")\n",
        "print(result2)\n",
        "print()\n",
        "\n",
        "print(\"🧪 Testing Tool 3: book_trial_session\")\n",
        "result3 = book_trial_session(\"Jane Doe\", \"jane@example.com\", \"2025-10-25\", \"personal_training\")\n",
        "print(result3)\n",
        "print()\n",
        "\n",
        "print(\"🧪 Testing Tool 4: check_class_availability\")\n",
        "result4 = check_class_availability(\"yoga\", \"monday\")\n",
        "print(result4)\n",
        "print()\n",
        "\n",
        "print(\"✅ All tool functions working correctly!\")\n",
        "print(\"📁 Check leads.txt, feedback.txt, and bookings.txt files\")"
      ]
    },
    {
      "cell_type": "markdown",
      "id": "71b1f3bd",
      "metadata": {
        "id": "71b1f3bd"
      },
      "source": [
        "## Step 6: Configure Gemini API Tools\n",
        "\n",
        "Define tool declarations for Gemini Function Calling API."
      ]
    },
    {
      "cell_type": "code",
      "execution_count": 59,
      "id": "cee46693",
      "metadata": {
        "colab": {
          "base_uri": "https://localhost:8080/"
        },
        "id": "cee46693",
        "outputId": "0d0d9e9b-3882-4e4d-d262-0255c0fdd880"
      },
      "outputs": [
        {
          "name": "stdout",
          "output_type": "stream",
          "text": [
            "✅ Tool declarations configured for Gemini API\n",
            "📋 Configured 4 tools\n",
            "   • record_customer_interest\n",
            "   • record_feedback\n",
            "   • book_trial_session\n",
            "   • check_class_availability\n"
          ]
        }
      ],
      "source": [
        "# Define tool declarations in Gemini format\n",
        "tools = [\n",
        "    {\n",
        "        \"function_declarations\": [\n",
        "            {\n",
        "                \"name\": \"record_customer_interest\",\n",
        "                \"description\": \"Records a potential customer's contact information and interest. Use this when someone expresses interest in joining, wants more information, or asks to be contacted.\",\n",
        "                \"parameters\": {\n",
        "                    \"type\": \"object\",\n",
        "                    \"properties\": {\n",
        "                        \"name\": {\"type\": \"string\", \"description\": \"The customer's full name\"},\n",
        "                        \"email\": {\"type\": \"string\", \"description\": \"The customer's email address\"},\n",
        "                        \"interest\": {\"type\": \"string\", \"description\": \"What the customer is interested in (e.g., 'personal training', 'weight loss', 'membership info')\"},\n",
        "                        \"phone\": {\"type\": \"string\", \"description\": \"Optional phone number\"}\n",
        "                    },\n",
        "                    \"required\": [\"name\", \"email\", \"interest\"]\n",
        "                }\n",
        "            },\n",
        "            {\n",
        "                \"name\": \"record_feedback\",\n",
        "                \"description\": \"Records customer feedback, complaints, or suggestions. Use this when customers provide feedback, report issues, or make complaints.\",\n",
        "                \"parameters\": {\n",
        "                    \"type\": \"object\",\n",
        "                    \"properties\": {\n",
        "                        \"feedback\": {\"type\": \"string\", \"description\": \"The feedback, complaint, or suggestion text\"},\n",
        "                        \"customer_name\": {\"type\": \"string\", \"description\": \"Name of the customer providing feedback (default: Anonymous)\"},\n",
        "                        \"severity\": {\"type\": \"string\", \"description\": \"Priority level: 'low' for positive feedback/suggestions, 'medium' for minor issues, 'high' for serious complaints\", \"enum\": [\"low\", \"medium\", \"high\"]}\n",
        "                    },\n",
        "                    \"required\": [\"feedback\"]\n",
        "                }\n",
        "            },\n",
        "            {\n",
        "                \"name\": \"book_trial_session\",\n",
        "                \"description\": \"Books a free trial session for a potential customer. Use when someone wants to try a class, schedule a consultation, or book their first visit.\",\n",
        "                \"parameters\": {\n",
        "                    \"type\": \"object\",\n",
        "                    \"properties\": {\n",
        "                        \"name\": {\"type\": \"string\", \"description\": \"Customer's full name\"},\n",
        "                        \"email\": {\"type\": \"string\", \"description\": \"Customer's email address\"},\n",
        "                        \"preferred_date\": {\"type\": \"string\", \"description\": \"Preferred date for the trial session (e.g., '2025-10-25', 'next Monday', 'this weekend')\"},\n",
        "                        \"session_type\": {\"type\": \"string\", \"description\": \"Type of trial session\", \"enum\": [\"personal_training\", \"group_class\", \"nutrition\"]}\n",
        "                    },\n",
        "                    \"required\": [\"name\", \"email\", \"preferred_date\", \"session_type\"]\n",
        "                }\n",
        "            },\n",
        "            {\n",
        "                \"name\": \"check_class_availability\",\n",
        "                \"description\": \"Checks what time slots are available for a specific class type on a given day. Use when customers ask about class schedules or availability.\",\n",
        "                \"parameters\": {\n",
        "                    \"type\": \"object\",\n",
        "                    \"properties\": {\n",
        "                        \"class_type\": {\"type\": \"string\", \"description\": \"Type of class to check\", \"enum\": [\"yoga\", \"hiit\", \"spin\", \"strength\", \"pilates\", \"dance\"]},\n",
        "                        \"preferred_day\": {\"type\": \"string\", \"description\": \"Day of the week (monday, tuesday, etc.) or 'today' or 'tomorrow'\"}\n",
        "                    },\n",
        "                    \"required\": [\"class_type\", \"preferred_day\"]\n",
        "                }\n",
        "            }\n",
        "        ]\n",
        "    }\n",
        "]\n",
        "\n",
        "print(\"✅ Tool declarations configured for Gemini API\")\n",
        "print(f\"📋 Configured {len(tools[0]['function_declarations'])} tools\")\n",
        "for tool in tools[0]['function_declarations']:\n",
        "    print(f\"   • {tool['name']}\")"
      ]
    },
    {
      "cell_type": "markdown",
      "id": "90c723a3",
      "metadata": {
        "id": "90c723a3"
      },
      "source": [
        "## Step 7: Create System Prompt"
      ]
    },
    {
      "cell_type": "code",
      "execution_count": 60,
      "id": "21bd098f",
      "metadata": {
        "colab": {
          "base_uri": "https://localhost:8080/"
        },
        "id": "21bd098f",
        "outputId": "cf3af48f-028f-45d8-8cde-7887f2f7523c"
      },
      "outputs": [
        {
          "name": "stdout",
          "output_type": "stream",
          "text": [
            "✅ System prompt created\n",
            "📝 Prompt length: 7699 characters\n"
          ]
        }
      ],
      "source": [
        "SYSTEM_PROMPT = f\"\"\"You are the friendly and knowledgeable AI assistant for FitFusion Studio, an AI-powered fitness and wellness center.\n",
        "\n",
        "BUSINESS INFORMATION:\n",
        "{BUSINESS_INFO}\n",
        "\n",
        "YOUR ROLE:\n",
        "- Answer questions about our services, pricing, classes, team, and facilities\n",
        "- Help potential customers by collecting their contact information when they show interest\n",
        "- Book trial sessions for people who want to try our services\n",
        "- Check and share class schedules and availability\n",
        "- Record feedback, complaints, and suggestions\n",
        "- Be motivating, supportive, and professional in your fitness knowledge\n",
        "- Stay in character as FitFusion Studio's assistant at all times\n",
        "\n",
        "IMPORTANT GUIDELINES:\n",
        "\n",
        "1. INFORMATION QUERIES: Use the business information provided above to answer questions accurately. Don't make up information not provided.\n",
        "\n",
        "2. LEAD COLLECTION: When someone expresses interest (e.g., \"I'm interested in joining\", \"tell me more\", \"I want to sign up\"), use the record_customer_interest tool to capture their name, email, interest area, and optionally phone number.\n",
        "\n",
        "3. BOOKING TRIALS: When someone wants to book a trial, try a class, or schedule a consultation, use the book_trial_session tool. Make sure to get their name, email, preferred date, and what type of session they want.\n",
        "\n",
        "4. CLASS SCHEDULES: When asked about class times or availability, use the check_class_availability tool with the class type and day they're asking about.\n",
        "\n",
        "5. FEEDBACK: When someone provides feedback, reports a problem, or makes a complaint, use the record_feedback tool. Assess severity: 'low' for positive feedback, 'medium' for minor issues, 'high' for serious problems.\n",
        "\n",
        "6. UNKNOWN INFORMATION: If asked something not covered in the business information, acknowledge you don't know and offer to have a team member contact them (collect their info with record_customer_interest).\n",
        "\n",
        "7. TONE: Be encouraging about fitness goals, empathetic to challenges, and professional yet friendly. Use motivating language but avoid being pushy about sales.\n",
        "\n",
        "SERVICES SUMMARY:\n",
        "- Personal Training: One-on-one coaching with AI-powered progress tracking\n",
        "- Group Classes: Yoga, HIIT, Spin, Strength, Pilates, Dance\n",
        "- Nutrition Coaching: Personalized meal plans with AI optimization\n",
        "- Wellness Programs: Stress management, sleep optimization, recovery\n",
        "\n",
        "MEMBERSHIP TIERS:\n",
        "- Starter: $79/month (unlimited classes, AI app, open gym)\n",
        "- Growth: $149/month (adds 2 PT sessions/month, nutrition consult)\n",
        "- Elite: $249/month (adds 4 PT sessions/month, unlimited nutrition, recovery services)\n",
        "- Free trial class for new members!\n",
        "\n",
        "Remember: Your goal is to help people start their fitness journey with FitFusion Studio. Be helpful, informative, and use tools when appropriate!\"\"\"\n",
        "\n",
        "print(\"✅ System prompt created\")\n",
        "print(f\"📝 Prompt length: {len(SYSTEM_PROMPT)} characters\")"
      ]
    },
    {
      "cell_type": "markdown",
      "id": "8ced24ae",
      "metadata": {
        "id": "8ced24ae"
      },
      "source": [
        "## Step 8: Test API Connection"
      ]
    },
    {
      "cell_type": "code",
      "execution_count": 61,
      "id": "6ed3c147",
      "metadata": {
        "colab": {
          "base_uri": "https://localhost:8080/",
          "height": 86
        },
        "id": "6ed3c147",
        "outputId": "d46c5a33-ff49-40aa-ea61-7b8f8b213749"
      },
      "outputs": [
        {
          "name": "stdout",
          "output_type": "stream",
          "text": [
            "🧪 Testing basic Gemini API connection...\n",
            "✅ API Connection successful!\n",
            "Response: Hello from FitFusion!\n",
            "\n"
          ]
        }
      ],
      "source": [
        "print(\"🧪 Testing basic Gemini API connection...\")\n",
        "\n",
        "try:\n",
        "    model = genai.GenerativeModel('gemini-2.0-flash')\n",
        "    response = model.generate_content(\"Say 'Hello from FitFusion!' if you can hear me.\")\n",
        "    print(\"✅ API Connection successful!\")\n",
        "    print(f\"Response: {response.text}\")\n",
        "except Exception as e:\n",
        "    print(f\"❌ API Connection failed: {e}\")\n",
        "    print(\"Please check your GOOGLE_API_KEY in .env file\")"
      ]
    },
    {
      "cell_type": "markdown",
      "id": "18d0763d",
      "metadata": {
        "id": "18d0763d"
      },
      "source": [
        "## Step 9: Tool Execution Function"
      ]
    },
    {
      "cell_type": "code",
      "execution_count": 62,
      "id": "0f8f6514",
      "metadata": {
        "colab": {
          "base_uri": "https://localhost:8080/"
        },
        "id": "0f8f6514",
        "outputId": "b98c22cb-0372-4b28-857a-dc1dd667cf3d"
      },
      "outputs": [
        {
          "name": "stdout",
          "output_type": "stream",
          "text": [
            "✅ Tool execution function ready\n"
          ]
        }
      ],
      "source": [
        "def execute_tool(tool_call):\n",
        "    \"\"\"\n",
        "    Execute a tool function call from Gemini\n",
        "\n",
        "    Args:\n",
        "        tool_call: FunctionCall object from Gemini response\n",
        "\n",
        "    Returns:\n",
        "        Tool execution result\n",
        "    \"\"\"\n",
        "    function_name = tool_call.name\n",
        "    function_args = tool_call.args\n",
        "\n",
        "    print(f\"🔧 Executing tool: {function_name}\")\n",
        "    print(f\"📥 Arguments: {function_args}\")\n",
        "\n",
        "    try:\n",
        "        # Route to appropriate function\n",
        "        if function_name == \"record_customer_interest\":\n",
        "            result = record_customer_interest(\n",
        "                name=function_args.get(\"name\"),\n",
        "                email=function_args.get(\"email\"),\n",
        "                interest=function_args.get(\"interest\"),\n",
        "                phone=function_args.get(\"phone\", \"\")\n",
        "            )\n",
        "        elif function_name == \"record_feedback\":\n",
        "            result = record_feedback(\n",
        "                feedback=function_args.get(\"feedback\"),\n",
        "                customer_name=function_args.get(\"customer_name\", \"Anonymous\"),\n",
        "                severity=function_args.get(\"severity\", \"medium\")\n",
        "            )\n",
        "        elif function_name == \"book_trial_session\":\n",
        "            result = book_trial_session(\n",
        "                name=function_args.get(\"name\"),\n",
        "                email=function_args.get(\"email\"),\n",
        "                preferred_date=function_args.get(\"preferred_date\"),\n",
        "                session_type=function_args.get(\"session_type\")\n",
        "            )\n",
        "        elif function_name == \"check_class_availability\":\n",
        "            result = check_class_availability(\n",
        "                class_type=function_args.get(\"class_type\"),\n",
        "                preferred_day=function_args.get(\"preferred_day\")\n",
        "            )\n",
        "        else:\n",
        "            result = f\"Error: Unknown function {function_name}\"\n",
        "\n",
        "        print(f\"✅ Tool executed successfully\")\n",
        "        return result\n",
        "\n",
        "    except Exception as e:\n",
        "        error_msg = f\"Error executing {function_name}: {str(e)}\"\n",
        "        print(f\"❌ {error_msg}\")\n",
        "        return error_msg\n",
        "\n",
        "print(\"✅ Tool execution function ready\")"
      ]
    },
    {
      "cell_type": "markdown",
      "id": "594bb72d",
      "metadata": {
        "id": "594bb72d"
      },
      "source": [
        "## Step 10: Create FitFusion Agent Class"
      ]
    },
    {
      "cell_type": "code",
      "execution_count": 63,
      "id": "c70c5a60",
      "metadata": {
        "colab": {
          "base_uri": "https://localhost:8080/"
        },
        "id": "c70c5a60",
        "outputId": "7bc7262d-a032-403c-e86b-2cb316b82cf8"
      },
      "outputs": [
        {
          "name": "stdout",
          "output_type": "stream",
          "text": [
            "✅ FitFusion Agent initialized\n",
            "✅ Agent ready to chat!\n"
          ]
        }
      ],
      "source": [
        "class FitFusionAgent:\n",
        "    \"\"\"Main agent class for FitFusion Studio chatbot\"\"\"\n",
        "\n",
        "    def __init__(self, system_prompt: str, tools: List[Dict]):\n",
        "        \"\"\"Initialize the agent with system prompt and tools\"\"\"\n",
        "        self.system_prompt = system_prompt\n",
        "        self.tools = tools\n",
        "\n",
        "        # Initialize Gemini model with tools\n",
        "        self.model = genai.GenerativeModel(\n",
        "            'gemini-2.0-flash',\n",
        "            tools=self.tools,\n",
        "            system_instruction=self.system_prompt\n",
        "        )\n",
        "\n",
        "        # Start chat session\n",
        "        self.chat = self.model.start_chat(history=[])\n",
        "\n",
        "        print(\"✅ FitFusion Agent initialized\")\n",
        "\n",
        "    def send_message(self, user_message: str) -> str:\n",
        "        \"\"\"\n",
        "        Send a message to the agent and get response\n",
        "\n",
        "        Args:\n",
        "            user_message: User's input message\n",
        "\n",
        "        Returns:\n",
        "            Agent's response text\n",
        "        \"\"\"\n",
        "        try:\n",
        "            print(f\"\\n{'='*60}\")\n",
        "            print(f\"👤 User: {user_message}\")\n",
        "            print(f\"{'='*60}\")\n",
        "\n",
        "            # Send message to model\n",
        "            response = self.chat.send_message(user_message)\n",
        "\n",
        "            # Handle function calls in a loop (max 5 iterations to prevent infinite loops)\n",
        "            max_iterations = 5\n",
        "            iteration = 0\n",
        "\n",
        "            while iteration < max_iterations:\n",
        "                # Check if the first part of the response is a function call\n",
        "                try:\n",
        "                    first_part = response.candidates[0].content.parts[0]\n",
        "\n",
        "                    # Check if this part has a function_call attribute (not just checking hasattr)\n",
        "                    if hasattr(first_part, 'function_call') and first_part.function_call.name:\n",
        "                        print(\"🔧 Model requesting tool execution...\")\n",
        "\n",
        "                        # Get function call\n",
        "                        function_call = first_part.function_call\n",
        "\n",
        "                        # Execute the tool\n",
        "                        tool_result = execute_tool(function_call)\n",
        "\n",
        "                        # Send tool result back to model\n",
        "                        response = self.chat.send_message(\n",
        "                            genai.protos.Content(\n",
        "                                parts=[genai.protos.Part(\n",
        "                                    function_response=genai.protos.FunctionResponse(\n",
        "                                        name=function_call.name,\n",
        "                                        response={'result': tool_result}\n",
        "                                    )\n",
        "                                )]\n",
        "                            )\n",
        "                        )\n",
        "                        iteration += 1\n",
        "                    else:\n",
        "                        # No function call, break out of loop\n",
        "                        break\n",
        "\n",
        "                except (AttributeError, IndexError) as e:\n",
        "                    # No valid function call structure, break\n",
        "                    break\n",
        "\n",
        "            # Now safely get the text response\n",
        "            # Don't check hasattr(response, 'text') - just try to access it\n",
        "            try:\n",
        "                final_response = response.text\n",
        "            except ValueError:\n",
        "                # If there's still a function_call, something went wrong\n",
        "                final_response = \"I apologize, but I couldn't complete that request properly.\"\n",
        "\n",
        "            print(f\"🤖 Agent: {final_response}\")\n",
        "\n",
        "            return final_response\n",
        "\n",
        "        except Exception as e:\n",
        "            error_msg = f\"Sorry, I encountered an error: {str(e)}\"\n",
        "            print(f\"❌ Error: {e}\")\n",
        "            import traceback\n",
        "            traceback.print_exc()  # This will help debug\n",
        "            return error_msg\n",
        "\n",
        "    def reset_chat(self):\n",
        "        \"\"\"Reset the chat history\"\"\"\n",
        "        self.chat = self.model.start_chat(history=[])\n",
        "        print(\"🔄 Chat history reset\")\n",
        "\n",
        "# Initialize the agent\n",
        "agent = FitFusionAgent(SYSTEM_PROMPT, tools)\n",
        "print(\"✅ Agent ready to chat!\")"
      ]
    },
    {
      "cell_type": "markdown",
      "id": "6a121271",
      "metadata": {
        "id": "6a121271"
      },
      "source": [
        "## Step 11: Test Agent\n",
        "\n",
        "Test the complete agent with various scenarios."
      ]
    },
    {
      "cell_type": "code",
      "execution_count": 65,
      "id": "e61af94b",
      "metadata": {
        "colab": {
          "base_uri": "https://localhost:8080/",
          "height": 1000
        },
        "id": "e61af94b",
        "outputId": "7b244ef2-7d88-4edc-d712-3519200fb5ee"
      },
      "outputs": [
        {
          "name": "stdout",
          "output_type": "stream",
          "text": [
            "\n",
            "============================================================\n",
            "TESTING AGENT WITH VARIOUS SCENARIOS\n",
            "============================================================\n",
            "\n",
            "\n",
            "--- Test 1 ---\n",
            "\n",
            "============================================================\n",
            "👤 User: What services do you offer?\n",
            "============================================================\n",
            "🤖 Agent: We offer four core services at FitFusion Studio:\n",
            "\n",
            "*   **Personal Training**: Tailored one-on-one sessions with certified trainers, enhanced by AI-driven insights.\n",
            "*   **Group Classes**: A variety of engaging classes including Yoga, HIIT, Spin, Strength & Conditioning, Pilates, and Zumba.\n",
            "*   **Nutrition Coaching**: Personalized nutrition plans crafted by registered dietitians, using our AI meal planning system.\n",
            "*   **Wellness Programs**: Holistic services like stress management, sleep optimization, and recovery sessions.\n",
            "\n",
            "Would you like more details on any of these?\n",
            "\n",
            "\n",
            "\n",
            "--- Test 2 ---\n",
            "\n",
            "============================================================\n",
            "👤 User: I'm interested in booking a yoga session on Monday. My name is Sarah Johnson and my email is sarah.j@email.com\n",
            "============================================================\n",
            "🔧 Model requesting tool execution...\n",
            "🔧 Executing tool: book_trial_session\n",
            "📥 Arguments: <proto.marshal.collections.maps.MapComposite object at 0x7950125b9310>\n",
            "✅ Tool executed successfully\n",
            "🤖 Agent: OK Sarah, I've requested a booking for a yoga group class for you for next Monday. You'll receive a confirmation email within 2 hours with the available time slots. The email will be sent to sarah.j@email.com. Please bring comfortable workout clothes and arrive 10 minutes early. We're excited to meet you!\n",
            "\n",
            "\n",
            "\n",
            "--- Test 3 ---\n",
            "\n",
            "============================================================\n",
            "👤 User: What yoga classes are available on Monday?\n",
            "============================================================\n",
            "🔧 Model requesting tool execution...\n",
            "🔧 Executing tool: check_class_availability\n",
            "📥 Arguments: <proto.marshal.collections.maps.MapComposite object at 0x795012515880>\n",
            "✅ Tool executed successfully\n",
            "🤖 Agent: We have yoga classes on Monday at 6:00 AM, 12:00 PM, and 6:30 PM. Each class is 60 minutes.\n",
            "\n",
            "\n",
            "\n",
            "--- Test 4 ---\n",
            "\n",
            "============================================================\n",
            "👤 User: I want to book a trial session. My name is Mike Brown, email mike.brown@email.com, and I'd like to try a group class next Friday.\n",
            "============================================================\n",
            "🤖 Agent: Of course, Mike. To book your trial group class, could you please specify which type of group class you'd like to try? We offer Yoga, HIIT, Spin, Strength & Conditioning, Pilates, and Zumba.\n",
            "\n",
            "\n",
            "\n",
            "--- Test 5 ---\n",
            "\n",
            "============================================================\n",
            "👤 User: The locker room was really clean today! Great job.\n",
            "============================================================\n",
            "🤖 Agent: That's fantastic to hear! We really appreciate the positive feedback and are glad you had a good experience.\n",
            "\n",
            "\n",
            "\n",
            "✅ Agent testing complete!\n",
            "📁 Check leads.txt, feedback.txt, and bookings.txt for recorded data\n"
          ]
        }
      ],
      "source": [
        "print(\"\\n\" + \"=\"*60)\n",
        "print(\"TESTING AGENT WITH VARIOUS SCENARIOS\")\n",
        "print(\"=\"*60 + \"\\n\")\n",
        "\n",
        "test_queries = [\n",
        "    \"What services do you offer?\",\n",
        "    \"I'm interested in booking a yoga session on Monday. My name is Sarah Johnson and my email is sarah.j@email.com\",\n",
        "    \"What yoga classes are available on Monday?\",\n",
        "    \"I want to book a trial session. My name is Mike Brown, email mike.brown@email.com, and I'd like to try a group class next Friday.\",\n",
        "    \"The locker room was really clean today! Great job.\",\n",
        "]\n",
        "\n",
        "for i, query in enumerate(test_queries, 1):\n",
        "    print(f\"\\n--- Test {i} ---\")\n",
        "    response = agent.send_message(query)\n",
        "    print()\n",
        "\n",
        "    # Add small delay between tests\n",
        "    import time\n",
        "    time.sleep(2)\n",
        "\n",
        "print(\"\\n✅ Agent testing complete!\")\n",
        "print(\"📁 Check leads.txt, feedback.txt, and bookings.txt for recorded data\")"
      ]
    },
    {
      "cell_type": "markdown",
      "id": "7e855f47",
      "metadata": {
        "id": "7e855f47"
      },
      "source": [
        "## Step 12: Create Gradio Interface"
      ]
    },
    {
      "cell_type": "code",
      "execution_count": 67,
      "id": "594e50fd",
      "metadata": {
        "colab": {
          "base_uri": "https://localhost:8080/"
        },
        "id": "594e50fd",
        "outputId": "b9849804-e9be-45b5-a15f-a2445030fd74"
      },
      "outputs": [
        {
          "name": "stderr",
          "output_type": "stream",
          "text": [
            "/tmp/ipython-input-576214228.py:40: UserWarning: You have not specified a value for the `type` parameter. Defaulting to the 'tuples' format for chatbot messages, but this is deprecated and will be removed in a future version of Gradio. Please set type='messages' instead, which uses openai-style dictionaries with 'role' and 'content' keys.\n",
            "  chatbot=gr.Chatbot(height=500),\n",
            "/usr/local/lib/python3.12/dist-packages/gradio/chat_interface.py:330: UserWarning: The gr.ChatInterface was not provided with a type, so the type of the gr.Chatbot, 'tuples', will be used.\n",
            "  warnings.warn(\n"
          ]
        },
        {
          "name": "stdout",
          "output_type": "stream",
          "text": [
            "✅ Gradio interface created\n"
          ]
        }
      ],
      "source": [
        "def gradio_chat_function(message, history):\n",
        "    \"\"\"\n",
        "    Wrapper function for Gradio ChatInterface\n",
        "\n",
        "    Args:\n",
        "        message: User's message\n",
        "        history: Chat history (list of [user_msg, bot_msg] pairs)\n",
        "\n",
        "    Returns:\n",
        "        Bot's response\n",
        "    \"\"\"\n",
        "    # Get response from agent\n",
        "    response = agent.send_message(message)\n",
        "    return response\n",
        "\n",
        "# Create Gradio interface\n",
        "demo = gr.ChatInterface(\n",
        "    fn=gradio_chat_function,\n",
        "    title=\"🏋️ FitFusion Studio AI Assistant\",\n",
        "    description=\"\"\"\n",
        "    Welcome to FitFusion Studio! I'm your AI-powered fitness assistant. I can help you with:\n",
        "\n",
        "    • 📋 Information about our services, classes, and pricing\n",
        "    • 📅 Checking class schedules and availability\n",
        "    • 🎯 Booking free trial sessions\n",
        "    • 💪 Collecting your information if you're interested in joining\n",
        "    • 💬 Recording your feedback and suggestions\n",
        "\n",
        "    **Try asking:** \"What classes do you offer?\" or \"I want to book a trial session\"\n",
        "    \"\"\",\n",
        "    examples=[\n",
        "        \"What services do you offer?\",\n",
        "        \"What are your membership prices?\",\n",
        "        \"What yoga classes are available on Monday?\",\n",
        "        \"I'm interested in personal training\",\n",
        "        \"I want to book a trial class\",\n",
        "        \"Tell me about your team\",\n",
        "    ],\n",
        "    theme=gr.themes.Soft(),\n",
        "    chatbot=gr.Chatbot(height=500),\n",
        ")\n",
        "\n",
        "print(\"✅ Gradio interface created\")"
      ]
    },
    {
      "cell_type": "markdown",
      "id": "6bf3b566",
      "metadata": {
        "id": "6bf3b566"
      },
      "source": [
        "## Step 13: Launch Gradio Interface\n",
        "\n",
        "🚀 This will launch the interactive chat interface in your browser!"
      ]
    },
    {
      "cell_type": "code",
      "execution_count": 68,
      "id": "de25378b",
      "metadata": {
        "colab": {
          "base_uri": "https://localhost:8080/",
          "height": 889
        },
        "id": "de25378b",
        "outputId": "f633cbd3-9290-4a6e-eeef-c26da2917213"
      },
      "outputs": [
        {
          "name": "stdout",
          "output_type": "stream",
          "text": [
            "\n",
            "============================================================\n",
            "🚀 LAUNCHING GRADIO INTERFACE\n",
            "============================================================\n",
            "\n",
            "Click the URL below to open the chat interface in your browser\n",
            "Press Ctrl+C to stop the server\n",
            "\n",
            "Colab notebook detected. This cell will run indefinitely so that you can see errors and logs. To turn off, set debug=False in launch().\n",
            "* Running on public URL: https://704eb61fa9321bc2c0.gradio.live\n",
            "\n",
            "This share link expires in 1 week. For free permanent hosting and GPU upgrades, run `gradio deploy` from the terminal in the working directory to deploy to Hugging Face Spaces (https://huggingface.co/spaces)\n"
          ]
        },
        {
          "data": {
            "text/html": [
              "<div><iframe src=\"https://704eb61fa9321bc2c0.gradio.live\" width=\"100%\" height=\"500\" allow=\"autoplay; camera; microphone; clipboard-read; clipboard-write;\" frameborder=\"0\" allowfullscreen></iframe></div>"
            ],
            "text/plain": [
              "<IPython.core.display.HTML object>"
            ]
          },
          "metadata": {},
          "output_type": "display_data"
        },
        {
          "name": "stdout",
          "output_type": "stream",
          "text": [
            "\n",
            "============================================================\n",
            "👤 User: who won the worldcup in 2002\n",
            "============================================================\n",
            "🤖 Agent: I am sorry, I cannot provide information that is not related to FitFusion Studio.\n",
            "\n",
            "Keyboard interruption in main thread... closing server.\n",
            "Killing tunnel 0.0.0.0:7860 <> https://704eb61fa9321bc2c0.gradio.live\n"
          ]
        },
        {
          "data": {
            "text/plain": []
          },
          "execution_count": 68,
          "metadata": {},
          "output_type": "execute_result"
        }
      ],
      "source": [
        "# Launch the interface\n",
        "print(\"\\n\" + \"=\"*60)\n",
        "print(\"🚀 LAUNCHING GRADIO INTERFACE\")\n",
        "print(\"=\"*60)\n",
        "print(\"\\nClick the URL below to open the chat interface in your browser\")\n",
        "print(\"Press Ctrl+C to stop the server\\n\")\n",
        "\n",
        "demo.launch(\n",
        "    share=True,  # Set to True to create a public link\n",
        "    debug=True,\n",
        "    server_name=\"0.0.0.0\",  # Allows access from other devices on network\n",
        "    server_port=7860\n",
        ")"
      ]
    }
  ],
  "metadata": {
    "colab": {
      "provenance": []
    },
    "kernelspec": {
      "display_name": "Python 3",
      "name": "python3"
    },
    "language_info": {
      "name": "python"
    }
  },
  "nbformat": 4,
  "nbformat_minor": 5
}
